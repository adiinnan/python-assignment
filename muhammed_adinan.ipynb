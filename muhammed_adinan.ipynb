{
  "nbformat": 4,
  "nbformat_minor": 0,
  "metadata": {
    "colab": {
      "provenance": []
    },
    "kernelspec": {
      "name": "python3",
      "display_name": "Python 3"
    },
    "language_info": {
      "name": "python"
    }
  },
  "cells": [
    {
      "cell_type": "markdown",
      "source": [
        "2-Write a Python function to find the maximum of three numbers Sample input:\n",
        "34,12,7 Sample output: 34"
      ],
      "metadata": {
        "id": "FROirC66WulD"
      }
    },
    {
      "cell_type": "code",
      "source": [
        "def maximum(a, b, c):\n",
        "  if a > b:\n",
        "    if a > c:\n",
        "      return a\n",
        "    else:\n",
        "      return c\n",
        "  else:\n",
        "    if b > c:\n",
        "      return b\n",
        "    else:\n",
        "      return c\n",
        "a = int(input('ENTER THE FIRST NUMBER:'))\n",
        "b = int(input('ENTER THE SECOND NUMBER:'))\n",
        "c = int(input('ENTER THE THIRD NUMBER:'))\n",
        "print(maximum(a, b, c))\n"
      ],
      "metadata": {
        "colab": {
          "base_uri": "https://localhost:8080/"
        },
        "id": "yyLMuYquWfNc",
        "outputId": "298d063c-846b-4cbb-c0d2-caaf38afcf7a"
      },
      "execution_count": 63,
      "outputs": [
        {
          "output_type": "stream",
          "name": "stdout",
          "text": [
            "ENTER THE FIRST NUMBER:34\n",
            "ENTER THE SECOND NUMBER:12\n",
            "ENTER THE THIRD NUMBER:7\n",
            "34\n"
          ]
        }
      ]
    },
    {
      "cell_type": "markdown",
      "source": [
        "1-Write a Python function to accept a string value from the user and display the\n",
        "count of each character in that string. Sample input: Enter a string value:\n",
        "assembly Sample output: a=1, s=2, e=1, m=1, b=1, l=1, y=1"
      ],
      "metadata": {
        "id": "aDatTYOXZNNq"
      }
    },
    {
      "cell_type": "code",
      "source": [
        "def count_char(string):\n",
        "  counts = {}\n",
        "  for char in string:\n",
        "    if char not in counts:\n",
        "      counts[char] = 0\n",
        "    counts[char] += 1\n",
        "  return counts\n",
        "user_string = input(\"ENTER A STRING VALUE: \")\n",
        "char_counts = count_char(user_string)\n",
        "for char, count in char_counts.items():\n",
        "  print(f\"{char}={count}\")"
      ],
      "metadata": {
        "colab": {
          "base_uri": "https://localhost:8080/"
        },
        "id": "Hp19au4waCAd",
        "outputId": "823f22f2-3906-4863-a2a0-9e31d1d3a3d2"
      },
      "execution_count": 62,
      "outputs": [
        {
          "output_type": "stream",
          "name": "stdout",
          "text": [
            "ENTER A STRING VALUE: assembly\n",
            "a=1\n",
            "s=2\n",
            "e=1\n",
            "m=1\n",
            "b=1\n",
            "l=1\n",
            "y=1\n"
          ]
        }
      ]
    },
    {
      "cell_type": "markdown",
      "source": [
        "3-Write a Python function called exponent(base,exp) that returns an integer\n",
        "value of base raises to the power of exp. Sample input: Enter the base: 2\n",
        "Enter the exponent: 3 Sample output: 8"
      ],
      "metadata": {
        "id": "bAbHPQtftdkK"
      }
    },
    {
      "cell_type": "code",
      "source": [
        "def exponent(base, exp):\n",
        "  if exp == 0:\n",
        "    return 1\n",
        "  else:\n",
        "    return base * exponent(base, exp - 1)\n",
        "base = int(input(\"ENTER THE BASE: \"))\n",
        "exp = int(input(\"ENTER THE EXPONENT: \"))\n",
        "result = exponent(base, exp)\n",
        "print(f\"{result}\")"
      ],
      "metadata": {
        "colab": {
          "base_uri": "https://localhost:8080/"
        },
        "id": "BtwxEhYYaiaj",
        "outputId": "edd720b4-b87e-4cd1-b5dd-274a2e9d2dd1"
      },
      "execution_count": 61,
      "outputs": [
        {
          "output_type": "stream",
          "name": "stdout",
          "text": [
            "ENTER THE BASE: 2\n",
            "ENTER THE EXPONENT: 3\n",
            "8\n"
          ]
        }
      ]
    },
    {
      "cell_type": "markdown",
      "source": [
        "10-Write a Python function to calculate the factorial of a number (a nonnegative\n",
        "integer). The function accepts the number as an argument. Sample input: 3\n",
        "Sample output: 6"
      ],
      "metadata": {
        "id": "L5uRJEuZpX-F"
      }
    },
    {
      "cell_type": "code",
      "source": [
        "def factorial(n):\n",
        "  if n == 0:\n",
        "    return 1\n",
        "  else:\n",
        "    return n * factorial(n-1)\n",
        "number = int(input(\"ENTER AN NONNEGATIVE INTIGER: \"))\n",
        "print(f\"THE FACTORIAL OF {number} IS: {factorial(number)}\")"
      ],
      "metadata": {
        "colab": {
          "base_uri": "https://localhost:8080/"
        },
        "id": "_LhP1R2wrEAw",
        "outputId": "4c88ab4e-9dfb-437a-86df-896eb46cdf6e"
      },
      "execution_count": 64,
      "outputs": [
        {
          "output_type": "stream",
          "name": "stdout",
          "text": [
            "ENTER AN NONNEGATIVE INTIGER: 3\n",
            "THE FACTORIAL OF 3 IS: 6\n"
          ]
        }
      ]
    },
    {
      "cell_type": "markdown",
      "source": [
        "5-Write a Python program which iterates from 1 to 10. For multiples of 2, print\n",
        "“Fizz” instead of the number and for the multiples of 5, print “Buzz”. For\n",
        "numbers which are multiples of both 2 and 5, print “FizzBuzz”. Sample input:\n",
        "numbers from 1 to 10 Sample output: 1 Fizz 3 Fizz Buzz Fizz 7 Fizz 9\n",
        "FizzBuzz"
      ],
      "metadata": {
        "id": "W7TfD7A4wEJ4"
      }
    },
    {
      "cell_type": "code",
      "source": [
        "def fizz_buzz(num):\n",
        "    if num%2==0and num%5==0:\n",
        "        return 'FizzBuzz'\n",
        "    elif num % 2 == 0:\n",
        "        return 'Fizz'\n",
        "\n",
        "    elif num % 5==0:\n",
        "        return 'Buzz'\n",
        "    else:\n",
        "        return num\n",
        "\n",
        "for n in range(1,11):\n",
        "    print(fizz_buzz(n))"
      ],
      "metadata": {
        "colab": {
          "base_uri": "https://localhost:8080/"
        },
        "id": "7bWGVnPHwYGA",
        "outputId": "a5729a06-caa0-46ae-9ddd-882e95de2925"
      },
      "execution_count": 72,
      "outputs": [
        {
          "output_type": "stream",
          "name": "stdout",
          "text": [
            "1\n",
            "Fizz\n",
            "3\n",
            "Fizz\n",
            "Buzz\n",
            "Fizz\n",
            "7\n",
            "Fizz\n",
            "9\n",
            "FizzBuzz\n"
          ]
        }
      ]
    },
    {
      "cell_type": "markdown",
      "source": [
        "6-Write a Python function to find the most frequent item in a list of numbers.\n",
        "Sample input: 2, 3, 4, 2, 5, 2 Sample output: 2"
      ],
      "metadata": {
        "id": "xdNDcuTsxh1n"
      }
    },
    {
      "cell_type": "code",
      "source": [
        "def most_frequent(nums):\n",
        "  counts = {}\n",
        "  for num in nums:\n",
        "    if num not in counts:\n",
        "      counts[num] = 0\n",
        "    counts[num] += 1\n",
        "  most_frequent_num = None\n",
        "  max_count = 0\n",
        "  for num, count in counts.items():\n",
        "    if count > max_count:\n",
        "      most_frequent_num = num\n",
        "      max_count = count\n",
        "  return most_frequent_num\n",
        "nums = [2, 3, 4, 2, 5, 2]\n",
        "most_frequent_num = most_frequent(nums)\n",
        "print(f\"THE MOST FREQUENT NUMBER IS: {most_frequent_num}\")\n"
      ],
      "metadata": {
        "colab": {
          "base_uri": "https://localhost:8080/"
        },
        "id": "6W1gRbAWwa4-",
        "outputId": "fbfb03c6-8f1f-42af-ecaa-c871f49a76ca"
      },
      "execution_count": 73,
      "outputs": [
        {
          "output_type": "stream",
          "name": "stdout",
          "text": [
            "THE MOST FREQUENT NUMBER IS: 2\n"
          ]
        }
      ]
    },
    {
      "cell_type": "markdown",
      "source": [
        "7-Write a Python function to find the sum of squares of the numbers in a list.\n",
        "Sample input: 2,1,3,1 Sample output: 15"
      ],
      "metadata": {
        "id": "BOejbcQxyh_w"
      }
    },
    {
      "cell_type": "code",
      "source": [
        "def sum_of_squares(nums):\n",
        "  sum_of_squares = 0\n",
        "  for num in nums:\n",
        "    sum_of_squares += num ** 2\n",
        "  return sum_of_squares\n",
        "nums = [2, 1, 3, 1]\n",
        "print(f\"THE SUM OF SQUARES IS: {sum_of_squares(nums)}\")"
      ],
      "metadata": {
        "colab": {
          "base_uri": "https://localhost:8080/"
        },
        "id": "4xOOEzSUyk25",
        "outputId": "418dcbbb-9888-4118-b039-af37e2bd8256"
      },
      "execution_count": 74,
      "outputs": [
        {
          "output_type": "stream",
          "name": "stdout",
          "text": [
            "THE SUM OF SQUARES IS: 15\n"
          ]
        }
      ]
    },
    {
      "cell_type": "markdown",
      "source": [
        "4-Write a Python function that takes a positive integer and returns the sum of\n",
        "the cube of all the positive integers smaller than the specified number.\n",
        "Sample input: 4 Sample output: 36."
      ],
      "metadata": {
        "id": "HNe_jzjoy6YA"
      }
    },
    {
      "cell_type": "code",
      "source": [
        "def sum_of_cubes(n):\n",
        "  sum_of_cubes = 0\n",
        "  for i in range(1, n):\n",
        "    sum_of_cubes += i ** 3\n",
        "  return sum_of_cubes\n",
        "n = int(input(\"ENTER A POSITIVE INTEGER: \"))\n",
        "print(f\"THE SUM OF CUBES IS: {sum_of_cubes(n)}\")"
      ],
      "metadata": {
        "colab": {
          "base_uri": "https://localhost:8080/"
        },
        "id": "qzHDcYogywXJ",
        "outputId": "221a6f13-51e0-4674-ca15-0d252cb0ee5f"
      },
      "execution_count": 75,
      "outputs": [
        {
          "output_type": "stream",
          "name": "stdout",
          "text": [
            "ENTER A POSITIVE INTEGER: 4\n",
            "THE SUM OF CUBES IS: 36\n"
          ]
        }
      ]
    },
    {
      "cell_type": "markdown",
      "source": [
        "8-Write a Python program using for loop that will iterate from 1 to 15. For each\n",
        "iteration, check if the current number is odd or even, and display the message\n",
        "to the screen as odd or even. Sample input: 1….15 Sample output: 1-odd 2-\n",
        "even …. 15-odd"
      ],
      "metadata": {
        "id": "DT0rfNOC04Lt"
      }
    },
    {
      "cell_type": "code",
      "source": [
        "for i in range(1, 16):\n",
        "  if i % 2 == 0:\n",
        "    print(f\"{i} - EVEN\")\n",
        "  else:\n",
        "    print(f\"{i} - ODD\")"
      ],
      "metadata": {
        "colab": {
          "base_uri": "https://localhost:8080/"
        },
        "id": "jIqLQ-Oj0pE3",
        "outputId": "7682afb3-d645-4127-f631-63639071c7d7"
      },
      "execution_count": 77,
      "outputs": [
        {
          "output_type": "stream",
          "name": "stdout",
          "text": [
            "1 - ODD\n",
            "2 - EVEN\n",
            "3 - ODD\n",
            "4 - EVEN\n",
            "5 - ODD\n",
            "6 - EVEN\n",
            "7 - ODD\n",
            "8 - EVEN\n",
            "9 - ODD\n",
            "10 - EVEN\n",
            "11 - ODD\n",
            "12 - EVEN\n",
            "13 - ODD\n",
            "14 - EVEN\n",
            "15 - ODD\n"
          ]
        }
      ]
    },
    {
      "cell_type": "markdown",
      "source": [
        "9-Write a Python function to convert temperatures to and from Celsius\n",
        "Fahrenheit. [Formula: c/5=f-32/9 where c=temperature in Celsius and f=\n",
        "temperature in Fahrenheit.] Sample input: Temperature in Fahrenheit =41\n",
        "Sample output: Temperature in Celsius =5"
      ],
      "metadata": {
        "id": "Qj9fSD5A1VYB"
      }
    },
    {
      "cell_type": "code",
      "source": [],
      "metadata": {
        "id": "ZVZiRKbF2_sZ"
      },
      "execution_count": null,
      "outputs": []
    },
    {
      "cell_type": "markdown",
      "source": [
        "11-Case Study: Grade Calculator\n",
        "In this case study, you have to create a program that calculates the final\n",
        "grade for a student based on their scores in different assessments. The\n",
        "program will take input from the user, perform calculations, and display the\n",
        "final grade along with additional information.\n",
        "Requirements:\n",
        "1. The program should prompt the user to enter the following information:\n",
        "\n",
        "• Student's name\n",
        "\n",
        "• Number of assessments (e.g., assignments, quizzes, exams)\n",
        "\n",
        "• Weight (percentage) of each assessment type\n",
        "\n",
        "2. For each assessment type, the program should ask the user to enter:\n",
        "\n",
        "• Number of assessments of that type\n",
        "\n",
        "• Score obtained for each assessment.\n",
        "\n",
        "3. The program should calculate the weighted average score for each\n",
        "assessment type.\n",
        "4. The program should then calculate the final grade using the weighted\n",
        "average scores and the weights provided by the user.\n",
        "5. The program should display the following information:\n",
        "\n",
        "• Student's name\n",
        "\n",
        "• Weighted average score for each assessment type\n",
        "\n",
        "• Final grade\n",
        "\n",
        "• Letter grade based on a grading scale (e.g., A, B, C, D, F)\n",
        "\n",
        "6. The program should have a function to determine the letter grade based\n",
        "on the final grade."
      ],
      "metadata": {
        "id": "xTuAYmw72bmX"
      }
    }
  ]
}